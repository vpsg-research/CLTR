{
 "cells": [
  {
   "cell_type": "code",
   "execution_count": null,
   "id": "7d03b98b",
   "metadata": {},
   "outputs": [],
   "source": [
    "import os\n",
    "import pickle\n",
    "import numpy as np\n",
    "from sklearn.preprocessing import MinMaxScaler\n",
    "import matplotlib.pyplot as plt\n",
    "\n",
    "file_path = \"\"\n",
    "with open(file_path, \"rb\") as f:\n",
    "    te_save = pickle.load(f)\n",
    "te_save = np.array(te_save)\n",
    "scaler = MinMaxScaler()\n",
    "normalized_data = scaler.fit_transform(te_save.reshape(-1, 1))\n",
    "normalized_list = normalized_data.flatten()\n",
    "mirror_list = -normalized_list\n",
    "scaled_mirror_list = (mirror_list - np.min(mirror_list)) / (np.max(mirror_list) - np.min(mirror_list))\n",
    "with open(\"\",\"wb\") as f:\n",
    "    pickle.dump(normalized_list, f)\n",
    "with open(\"\",\"wb\") as f:\n",
    "    pickle.dump(scaled_mirror_list, f)\n",
    "\n"
   ]
  }
 ],
 "metadata": {
  "kernelspec": {
   "display_name": "Python 3 (ipykernel)",
   "language": "python",
   "name": "python3"
  },
  "language_info": {
   "codemirror_mode": {
    "name": "ipython",
    "version": 3
   },
   "file_extension": ".py",
   "mimetype": "text/x-python",
   "name": "python",
   "nbconvert_exporter": "python",
   "pygments_lexer": "ipython3",
   "version": "3.11.3"
  }
 },
 "nbformat": 4,
 "nbformat_minor": 5
}
